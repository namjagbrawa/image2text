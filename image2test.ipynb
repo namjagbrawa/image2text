{
 "cells": [
  {
   "cell_type": "code",
   "execution_count": 1,
   "metadata": {},
   "outputs": [],
   "source": [
    "from PIL import Image"
   ]
  },
  {
   "cell_type": "code",
   "execution_count": 3,
   "metadata": {},
   "outputs": [],
   "source": [
    "codeLib = '''@B%8&WM#*oahkbdpqwmZO0QLCJUYXzcvunxrjft/\\|()1{}[]?-_+~<>i!lI;:,\"^`'. '''#生成字符画所需的字符集\n",
    "count = len(codeLib)\n",
    "\n",
    "def transform1(image_file):\n",
    "    image_file = image_file.convert(\"L\")#转换为黑白图片，参数\"L\"表示黑白模式\n",
    "    codePic = ''\n",
    "    for h in range(0,image_file.size[1]):  #size属性表示图片的分辨率，'0'为横向大小，'1'为纵向\n",
    "        for w in range(0,image_file.size[0]):\n",
    "            gray = image_file.getpixel((w,h)) #返回指定位置的像素，如果所打开的图像是多层次的图片，那这个方法就返回一个元组\n",
    "            codePic = codePic + codeLib[int(((count-1)*gray)/256)]#建立灰度与字符集的映射\n",
    "        codePic = codePic+'\\r\\n'\n",
    "    return codePic\n",
    "\n",
    "def transform2(image_file):\n",
    "    codePic = ''\n",
    "    for h in range(0,image_file.size[1]):\n",
    "        for w in range(0,image_file.size[0]):\n",
    "            g,r,b = image_file.getpixel((w,h))\n",
    "            gray = int(r* 0.299+g* 0.587+b* 0.114)\n",
    "            codePic = codePic + codeLib[int(((count-1)*gray)/256)]\n",
    "        codePic = codePic+'\\r\\n'\n",
    "    return codePic"
   ]
  },
  {
   "cell_type": "code",
   "execution_count": 12,
   "metadata": {},
   "outputs": [
    {
     "name": "stdout",
     "output_type": "stream",
     "text": [
      "Info: 143   85   69\n"
     ]
    }
   ],
   "source": [
    "fp = open(u'/Users/zhangge/Desktop/picture/WechatIMG47272.png','rb')\n",
    "image_file = Image.open(fp)\n",
    "image_file=image_file.resize((int(image_file.size[0]*0.25), int(image_file.size[1]*0.15)))#调整图片大小\n",
    "print(u'Info:',image_file.size[0],' ',image_file.size[1],' ',count)\n",
    "\n",
    "tmp = open('/Users/zhangge/Desktop/tmp.txt','w')\n",
    "tmp.write(transform1(image_file))\n",
    "tmp.close()"
   ]
  }
 ],
 "metadata": {
  "kernelspec": {
   "display_name": "Python 3",
   "language": "python",
   "name": "python3"
  },
  "language_info": {
   "codemirror_mode": {
    "name": "ipython",
    "version": 3
   },
   "file_extension": ".py",
   "mimetype": "text/x-python",
   "name": "python",
   "nbconvert_exporter": "python",
   "pygments_lexer": "ipython3",
   "version": "3.7.1"
  }
 },
 "nbformat": 4,
 "nbformat_minor": 2
}
